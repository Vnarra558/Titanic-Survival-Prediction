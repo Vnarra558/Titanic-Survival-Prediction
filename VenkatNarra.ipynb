{
  "nbformat": 4,
  "nbformat_minor": 0,
  "metadata": {
    "colab": {
      "provenance": []
    },
    "kernelspec": {
      "name": "python3",
      "display_name": "Python 3"
    },
    "language_info": {
      "name": "python"
    }
  },
  "cells": [
    {
      "cell_type": "code",
      "execution_count": 1,
      "metadata": {
        "id": "CtanVaIk9onm"
      },
      "outputs": [],
      "source": [
        "import pandas as pd\n",
        "import numpy as np\n",
        "from sklearn.model_selection import train_test_split\n",
        "from collections import Counter\n",
        "from sklearn.metrics import accuracy_score\n",
        "from sklearn.preprocessing import StandardScaler\n",
        "from sklearn.metrics import classification_report"
      ]
    },
    {
      "cell_type": "code",
      "source": [
        "class NaiveBayes:\n",
        "    \n",
        "    def __init__(self):\n",
        "        self.prior_probabilities = {}\n",
        "        self.conditional_probabilities = {}\n",
        "        self.classes = []\n",
        "\n",
        "    def fit(self, X, y):\n",
        "        n_samples, n_features = X.shape\n",
        "        self.classes = np.unique(y)\n",
        "        n_classes = len(self.classes)\n",
        "\n",
        "        # calculate mean, variance, and prior for each class\n",
        "        self.mean = np.zeros((n_classes, n_features), dtype=np.float64)\n",
        "        self.variance = np.zeros((n_classes, n_features), dtype=np.float64)\n",
        "        self.priors = np.zeros(n_classes, dtype=np.float64)\n",
        "\n",
        "        for idx, c in enumerate(self.classes):\n",
        "            X_c = []\n",
        "            for i in range(X.shape[0]):\n",
        "                if y[i] == c:\n",
        "                    X_c.append(X[i])\n",
        "            X_c = np.array(X_c)\n",
        "\n",
        "            self.mean[idx, :] = X_c.mean(axis=0)\n",
        "            self.variance[idx, :] = X_c.var(axis=0)\n",
        "\n",
        "        # Calculates the prior probabilities for each class.\n",
        "        for label in self.classes:\n",
        "            self.prior_probabilities[label] = np.count_nonzero(y == label) / len(y)\n",
        "        # Calculates the conditional probabilities for each class.\n",
        "        self.calculate_conditional_probabilities(X, y)\n",
        "\n",
        "\n",
        "    def calculate_conditional_probabilities(self, X, y):\n",
        "        n_features = X.shape[1]\n",
        "        for label in self.classes:\n",
        "            class_samples = X[y == label]\n",
        "            class_probabilities = {}\n",
        "            for i in range(n_features):\n",
        "                feature_values = class_samples[:, i]\n",
        "                feature_count = Counter(feature_values) # count the occurrences of each feature value in the list\n",
        "                feature_probabilities = {}\n",
        "                for value in feature_count:\n",
        "                    feature_probabilities[value] = feature_count[value] / len(feature_values)\n",
        "                class_probabilities[i] = feature_probabilities\n",
        "            self.conditional_probabilities[label] = class_probabilities\n",
        "\n",
        "\n",
        "    def predict(self, X):\n",
        "        y_pred = []\n",
        "        for x in X:\n",
        "            posteriors = []\n",
        "            for idx, c in enumerate(self.classes):\n",
        "                prior = np.log(self.prior_probabilities[c])\n",
        "                numerator = np.exp(-((x - self.mean[idx]) ** 2) / (2 * self.variance[idx]))\n",
        "                denominator = np.sqrt(2 * np.pi * self.variance[idx])\n",
        "                posterior = np.sum(numerator / denominator)\n",
        "                posterior = prior + posterior\n",
        "                posteriors.append(posterior)\n",
        "            y_pred.append(self.classes[np.argmax(posteriors)])\n",
        "        return y_pred"
      ],
      "metadata": {
        "id": "Wo5CZNGn9wQ4"
      },
      "execution_count": 2,
      "outputs": []
    },
    {
      "cell_type": "code",
      "source": [
        "class KNN:\n",
        "    def __init__(self, K):\n",
        "        self.K = K\n",
        "\n",
        "    def fit(self, X_train, y_train):\n",
        "        self.X_train = X_train\n",
        "        self.y_train = y_train\n",
        "\n",
        "    def predict(self, X_test):\n",
        "        y_pred = np.zeros(X_test.shape[0])\n",
        "\n",
        "        for i, x_test in enumerate(X_test):\n",
        "            dists = np.sqrt(np.sum((self.X_train - x_test)**2, axis=1))\n",
        "            idx = np.argsort(dists)[:self.K]\n",
        "            k_labels = self.y_train[idx]\n",
        "            counts = np.bincount(k_labels)\n",
        "            y_pred[i] = np.argmax(counts)\n",
        "        return y_pred"
      ],
      "metadata": {
        "id": "mTVQf_V89609"
      },
      "execution_count": 3,
      "outputs": []
    },
    {
      "cell_type": "code",
      "source": [
        "titanic_df = pd.read_csv(r'train.csv')\n",
        "\n",
        "titanic_df = titanic_df.drop(['Name', 'Ticket', 'Cabin', 'PassengerId'], axis=1)\n",
        "\n",
        "titanic_df = pd.get_dummies(titanic_df, columns=['Sex', 'Embarked'])\n",
        "\n",
        "titanic_df = titanic_df.dropna()\n",
        "\n",
        "X = titanic_df.drop(['Survived'], axis=1).values\n",
        "y = titanic_df['Survived'].values\n",
        "\n",
        "X_train, X_test, y_train, y_test = train_test_split(X, y, test_size=0.2, random_state=42)\n",
        "\n",
        "\n",
        "nb = NaiveBayes()\n",
        "nb.fit(X_train, y_train)\n",
        "y_pred = nb.predict(X_test)\n",
        "print('Accuracy for Naive bayes:', accuracy_score(y_test, y_pred))\n",
        "print(classification_report(y_test, y_pred))\n",
        "\n",
        "# Scale the features to have zero mean and unit variance\n",
        "scaler = StandardScaler()\n",
        "X_train = scaler.fit_transform(X_train)\n",
        "X_test = scaler.transform(X_test)\n",
        "K = 7\n",
        "knn = KNN(K)\n",
        "knn.fit(X_train, y_train)\n",
        "y_pred = knn.predict(X_test)\n",
        "\n",
        "accuracy = accuracy_score(y_test, y_pred)\n",
        "print(f'Accuracy for {K} KNN:{accuracy}')\n",
        "print(classification_report(y_test, y_pred))"
      ],
      "metadata": {
        "colab": {
          "base_uri": "https://localhost:8080/"
        },
        "id": "beTMD8Pm-Bm6",
        "outputId": "e1308a6c-12f8-4a99-eff7-7a4d79b0b076"
      },
      "execution_count": 5,
      "outputs": [
        {
          "output_type": "stream",
          "name": "stdout",
          "text": [
            "Accuracy for Naive bayes: 0.7342657342657343\n",
            "              precision    recall  f1-score   support\n",
            "\n",
            "           0       0.78      0.79      0.78        87\n",
            "           1       0.67      0.64      0.65        56\n",
            "\n",
            "    accuracy                           0.73       143\n",
            "   macro avg       0.72      0.72      0.72       143\n",
            "weighted avg       0.73      0.73      0.73       143\n",
            "\n",
            "Accuracy for 7 KNN:0.7902097902097902\n",
            "              precision    recall  f1-score   support\n",
            "\n",
            "           0       0.82      0.84      0.83        87\n",
            "           1       0.74      0.71      0.73        56\n",
            "\n",
            "    accuracy                           0.79       143\n",
            "   macro avg       0.78      0.78      0.78       143\n",
            "weighted avg       0.79      0.79      0.79       143\n",
            "\n"
          ]
        }
      ]
    },
    {
      "cell_type": "code",
      "source": [],
      "metadata": {
        "id": "IbW75u52-P6L"
      },
      "execution_count": null,
      "outputs": []
    }
  ]
}